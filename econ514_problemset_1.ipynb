{
 "cells": [
  {
   "cell_type": "markdown",
   "id": "driven-twenty",
   "metadata": {},
   "source": [
    "## Jiaxin Wang 63759203   Econ 514 problem set 1"
   ]
  },
  {
   "cell_type": "markdown",
   "id": "offensive-power",
   "metadata": {},
   "source": [
    "## Question one"
   ]
  },
  {
   "cell_type": "markdown",
   "id": "national-fireplace",
   "metadata": {},
   "source": [
    "$\\lambda$ is the probability with which a worker is believed to have type H. Wage of firm 1 is w1, wage of firm 2 is w2, w1>w2."
   ]
  },
  {
   "cell_type": "markdown",
   "id": "latin-landscape",
   "metadata": {},
   "source": [
    "let $\\pi$ be the probability that the other worker applies to the high wage firm when he or she is type L.\n",
    "let $\\rho$ be the probability that the other worker applies to the low wage firm when he or she is type H"
   ]
  },
  {
   "cell_type": "markdown",
   "id": "military-samuel",
   "metadata": {},
   "source": [
    "payoff for type H worker applying high wage firm is $\\lambda$(1-$\\rho$) ($\\frac{w1}{2}$) +$\\lambda$$\\rho$w1+(1-$\\lambda$)w1. And payoff for type H worker applying low wage firm is $\\lambda$(1-$\\rho$)w2+$\\lambda$$\\rho$($\\frac{w2}{2}$)+(1-$\\lambda$)w2"
   ]
  },
  {
   "cell_type": "code",
   "execution_count": 1,
   "id": "optional-panama",
   "metadata": {},
   "outputs": [
    {
     "name": "stderr",
     "output_type": "stream",
     "text": [
      "<>:1: DeprecationWarning: invalid escape sequence \\l\n",
      "<>:1: DeprecationWarning: invalid escape sequence \\l\n",
      "<ipython-input-1-955445d82b99>:1: DeprecationWarning: invalid escape sequence \\l\n",
      "  var('l', latex_name='\\lambda')\n"
     ]
    },
    {
     "data": {
      "text/html": [
       "<html><script type=\"math/tex; mode=display\">\\newcommand{\\Bold}[1]{\\mathbf{#1}}-\\frac{1}{2} \\, {\\lambda} {\\left(\\rho - 1\\right)} w_{1} + {\\lambda} \\rho w_{1} - {\\left({\\lambda} - 1\\right)} w_{1}</script></html>"
      ],
      "text/latex": [
       "\\begin{math}\n",
       "\\newcommand{\\Bold}[1]{\\mathbf{#1}}-\\frac{1}{2} \\, {\\lambda} {\\left(\\rho - 1\\right)} w_{1} + {\\lambda} \\rho w_{1} - {\\left({\\lambda} - 1\\right)} w_{1}\n",
       "\\end{math}"
      ],
      "text/plain": [
       "-1/2*l*(rho - 1)*w_1 + l*rho*w_1 - (l - 1)*w_1"
      ]
     },
     "metadata": {},
     "output_type": "display_data"
    },
    {
     "data": {
      "text/html": [
       "<html><script type=\"math/tex; mode=display\">\\newcommand{\\Bold}[1]{\\mathbf{#1}}-{\\lambda} {\\left(\\rho - 1\\right)} w_{2} + \\frac{1}{2} \\, {\\lambda} \\rho w_{2} - {\\left({\\lambda} - 1\\right)} w_{2}</script></html>"
      ],
      "text/latex": [
       "\\begin{math}\n",
       "\\newcommand{\\Bold}[1]{\\mathbf{#1}}-{\\lambda} {\\left(\\rho - 1\\right)} w_{2} + \\frac{1}{2} \\, {\\lambda} \\rho w_{2} - {\\left({\\lambda} - 1\\right)} w_{2}\n",
       "\\end{math}"
      ],
      "text/plain": [
       "-l*(rho - 1)*w_2 + 1/2*l*rho*w_2 - (l - 1)*w_2"
      ]
     },
     "metadata": {},
     "output_type": "display_data"
    },
    {
     "data": {
      "text/html": [
       "<html><script type=\"math/tex; mode=display\">\\newcommand{\\Bold}[1]{\\mathbf{#1}}\\left[\\rho = \\frac{{\\left({\\lambda} - 2\\right)} w_{1} + 2 \\, w_{2}}{{\\lambda} w_{1} + {\\lambda} w_{2}}\\right]</script></html>"
      ],
      "text/latex": [
       "\\begin{math}\n",
       "\\newcommand{\\Bold}[1]{\\mathbf{#1}}\\left[\\rho = \\frac{{\\left({\\lambda} - 2\\right)} w_{1} + 2 \\, w_{2}}{{\\lambda} w_{1} + {\\lambda} w_{2}}\\right]\n",
       "\\end{math}"
      ],
      "text/plain": [
       "[rho == ((l - 2)*w_1 + 2*w_2)/(l*w_1 + l*w_2)]"
      ]
     },
     "metadata": {},
     "output_type": "display_data"
    }
   ],
   "source": [
    "var('l', latex_name='\\lambda')\n",
    "var('rho w_1 w_2')\n",
    "payoffH1= l*(1-rho)*(w_1/2)+l*rho*w_1+(1-l)*w_1\n",
    "show(payoffH1)\n",
    "payoffH2= l*(1-rho)*(w_2)+l*rho*(w_2/2)+(1-l)*w_2\n",
    "show(payoffH2)\n",
    "solution=solve([payoffH1==payoffH2],rho)\n",
    "show(solution)"
   ]
  },
  {
   "cell_type": "markdown",
   "id": "actual-sequence",
   "metadata": {},
   "source": [
    "payoff for type L worker applying high wage firm is (1-$\\lambda$)(1-$\\pi$)w1+$\\pi$(1-$\\lambda$)($\\frac{w1}{2}$)+$\\lambda$$\\rho$w1. \n",
    "And payoff for type L worker applying low wage firm is $\\lambda$(1-$\\rho$)w2+(1-$\\lambda$)$\\pi$w2+(1-$\\lambda$)(1-$\\pi$)($\\frac{w2}{2}$)"
   ]
  },
  {
   "cell_type": "code",
   "execution_count": 2,
   "id": "certain-breast",
   "metadata": {},
   "outputs": [
    {
     "name": "stderr",
     "output_type": "stream",
     "text": [
      "<>:1: DeprecationWarning: invalid escape sequence \\l\n",
      "<>:1: DeprecationWarning: invalid escape sequence \\l\n",
      "<ipython-input-2-4571681b5a77>:1: DeprecationWarning: invalid escape sequence \\l\n",
      "  var('l', latex_name='\\lambda')\n"
     ]
    },
    {
     "data": {
      "text/html": [
       "<html><script type=\"math/tex; mode=display\">\\newcommand{\\Bold}[1]{\\mathbf{#1}}{\\left({\\lambda} - 1\\right)} {\\left(\\pi - 1\\right)} w_{1} - \\frac{1}{2} \\, {\\left({\\lambda} - 1\\right)} \\pi w_{1} + {\\lambda} \\rho w_{1}</script></html>"
      ],
      "text/latex": [
       "\\begin{math}\n",
       "\\newcommand{\\Bold}[1]{\\mathbf{#1}}{\\left({\\lambda} - 1\\right)} {\\left(\\pi - 1\\right)} w_{1} - \\frac{1}{2} \\, {\\left({\\lambda} - 1\\right)} \\pi w_{1} + {\\lambda} \\rho w_{1}\n",
       "\\end{math}"
      ],
      "text/plain": [
       "(l - 1)*(pi - 1)*w_1 - 1/2*(l - 1)*pi*w_1 + l*rho*w_1"
      ]
     },
     "metadata": {},
     "output_type": "display_data"
    },
    {
     "data": {
      "text/html": [
       "<html><script type=\"math/tex; mode=display\">\\newcommand{\\Bold}[1]{\\mathbf{#1}}\\frac{1}{2} \\, {\\left({\\lambda} - 1\\right)} {\\left(\\pi - 1\\right)} w_{2} - {\\left({\\lambda} - 1\\right)} \\pi w_{2} - {\\lambda} {\\left(\\rho - 1\\right)} w_{2}</script></html>"
      ],
      "text/latex": [
       "\\begin{math}\n",
       "\\newcommand{\\Bold}[1]{\\mathbf{#1}}\\frac{1}{2} \\, {\\left({\\lambda} - 1\\right)} {\\left(\\pi - 1\\right)} w_{2} - {\\left({\\lambda} - 1\\right)} \\pi w_{2} - {\\lambda} {\\left(\\rho - 1\\right)} w_{2}\n",
       "\\end{math}"
      ],
      "text/plain": [
       "1/2*(l - 1)*(pi - 1)*w_2 - (l - 1)*pi*w_2 - l*(rho - 1)*w_2"
      ]
     },
     "metadata": {},
     "output_type": "display_data"
    },
    {
     "data": {
      "text/html": [
       "<html><script type=\"math/tex; mode=display\">\\newcommand{\\Bold}[1]{\\mathbf{#1}}\\left[\\pi = -\\frac{2 \\, {\\left({\\lambda} \\rho - {\\lambda} + 1\\right)} w_{1} + {\\left(2 \\, {\\lambda} \\rho - {\\lambda} - 1\\right)} w_{2}}{{\\left({\\lambda} - 1\\right)} w_{1} + {\\left({\\lambda} - 1\\right)} w_{2}}\\right]</script></html>"
      ],
      "text/latex": [
       "\\begin{math}\n",
       "\\newcommand{\\Bold}[1]{\\mathbf{#1}}\\left[\\pi = -\\frac{2 \\, {\\left({\\lambda} \\rho - {\\lambda} + 1\\right)} w_{1} + {\\left(2 \\, {\\lambda} \\rho - {\\lambda} - 1\\right)} w_{2}}{{\\left({\\lambda} - 1\\right)} w_{1} + {\\left({\\lambda} - 1\\right)} w_{2}}\\right]\n",
       "\\end{math}"
      ],
      "text/plain": [
       "[pi == -(2*(l*rho - l + 1)*w_1 + (2*l*rho - l - 1)*w_2)/((l - 1)*w_1 + (l - 1)*w_2)]"
      ]
     },
     "metadata": {},
     "output_type": "display_data"
    }
   ],
   "source": [
    "var('l', latex_name='\\lambda')\n",
    "var('rho pi w_1 w_2')\n",
    "payoffL1= (1-l)*(1-pi)*w_1+pi*(1-l)*(w_1/2)+l*rho*w_1\n",
    "show(payoffL1)\n",
    "payoffL2= l*(1-rho)*(w_2)+(1-l)*pi*(w_2)+(1-l)*(1-pi)*(w_2/2)\n",
    "show(payoffL2)\n",
    "solution=solve([payoffL1==payoffL2],pi)\n",
    "show(solution)"
   ]
  },
  {
   "cell_type": "markdown",
   "id": "grand-premises",
   "metadata": {},
   "source": [
    "Profit function for firm 1 (with higher wage w1). If hire type H worker will generate $\\beta$Y revenue, while hire type L worker will generate Y revenue, and firm 1 pay w1 to worker. "
   ]
  },
  {
   "cell_type": "markdown",
   "id": "cross-oregon",
   "metadata": {},
   "source": [
    "the probability for firm 1 to hire a type H worker is \n",
    "$$\n",
    "  \\lambda^2*(1-\\rho^2)+2*\\lambda*(1-\\lambda)*（1-\\rho)\n",
    "$$"
   ]
  },
  {
   "cell_type": "markdown",
   "id": "educated-cattle",
   "metadata": {},
   "source": [
    "the probability for firm 1 to hire a type L worker is \n",
    "$$\n",
    "  (1-\\lambda)^2*(1-(1-\\pi)^2)+2*\\lambda*(1-\\lambda)*\\pi*\\rho\n",
    "$$"
   ]
  },
  {
   "cell_type": "markdown",
   "id": "ceramic-ceiling",
   "metadata": {},
   "source": [
    "the expected payoff of firm 1 is\n",
    "$$\n",
    "  (\\lambda^2*(1-\\rho^2)+2*\\lambda*(1-\\lambda)*（1-\\rho))*(\\beta *Y- w1)+((1-\\lambda)^2*(1-(1-\\pi)^2)+2*\\lambda*(1-\\lambda)*\\pi*\\rho)*(Y-w1)\n",
    "$$"
   ]
  },
  {
   "cell_type": "code",
   "execution_count": 3,
   "id": "completed-design",
   "metadata": {},
   "outputs": [
    {
     "name": "stderr",
     "output_type": "stream",
     "text": [
      "<>:1: DeprecationWarning: invalid escape sequence \\l\n",
      "<>:1: DeprecationWarning: invalid escape sequence \\l\n",
      "<ipython-input-3-82f727354129>:1: DeprecationWarning: invalid escape sequence \\l\n",
      "  var('l', latex_name='\\lambda')\n"
     ]
    },
    {
     "data": {
      "text/html": [
       "<html><script type=\"math/tex; mode=display\">\\newcommand{\\Bold}[1]{\\mathbf{#1}}2 \\, {\\left({\\lambda} - 1\\right)} {\\lambda} \\pi \\rho + {\\left({\\left(\\pi - 1\\right)}^{2} - 1\\right)} {\\left({\\lambda} - 1\\right)}^{2} + {\\left(\\rho^{2} - 1\\right)} {\\lambda}^{2} - 2 \\, {\\left({\\lambda} - 1\\right)} {\\lambda} {\\left(\\rho - 1\\right)}</script></html>"
      ],
      "text/latex": [
       "\\begin{math}\n",
       "\\newcommand{\\Bold}[1]{\\mathbf{#1}}2 \\, {\\left({\\lambda} - 1\\right)} {\\lambda} \\pi \\rho + {\\left({\\left(\\pi - 1\\right)}^{2} - 1\\right)} {\\left({\\lambda} - 1\\right)}^{2} + {\\left(\\rho^{2} - 1\\right)} {\\lambda}^{2} - 2 \\, {\\left({\\lambda} - 1\\right)} {\\lambda} {\\left(\\rho - 1\\right)}\n",
       "\\end{math}"
      ],
      "text/plain": [
       "2*(l - 1)*l*pi*rho + ((pi - 1)^2 - 1)*(l - 1)^2 + (rho^2 - 1)*l^2 - 2*(l - 1)*l*(rho - 1)"
      ]
     },
     "metadata": {},
     "output_type": "display_data"
    }
   ],
   "source": [
    "var('l', latex_name='\\lambda')\n",
    "var('pi rho beta Y w_1')\n",
    "profit1= (l^2*(1-rho^2)+2*l*(1-l)*(1-rho))*(beta*Y-w_1)+((1-l)^2*(1-(1-pi)^2)+2*l*(1-l)*rho*pi)*(Y-w_1)\n",
    "d1=derivative(profit1, w_1)\n",
    "show(d1)"
   ]
  },
  {
   "cell_type": "markdown",
   "id": "lined-cambodia",
   "metadata": {},
   "source": [
    "$\\pi$ is the probability that the other worker applies to the high wage firm when he or she is type L,\n",
    "and $\\rho$ is the probability that the other worker applies to the low wage firm when he or she is type H. So (1-$\\pi$)$\\rho$ is the probability that no one applies to firm 1. 1-(1-$\\pi$)$\\rho$ is at least one worker applies to firm 1."
   ]
  },
  {
   "cell_type": "markdown",
   "id": "removable-textbook",
   "metadata": {},
   "source": [
    "Profit function for firm 2 (with lower wage w2). If hire type H worker will generate $\\beta$Y revenue, while hire type L worker will generate Y revenue, and firm 1 pay w2 to worker."
   ]
  },
  {
   "cell_type": "markdown",
   "id": "intended-baptist",
   "metadata": {},
   "source": [
    "the probability for firm 2 to hire a type H worker is\n",
    "$$\n",
    "  \\lambda^2*(1-(1-\\rho)^2)+2*\\lambda*(1-\\lambda)*rho\n",
    "$$"
   ]
  },
  {
   "cell_type": "markdown",
   "id": "personalized-mongolia",
   "metadata": {},
   "source": [
    "the probability for firm 2 to hire a type L worker is \n",
    "$$\n",
    "  (1-\\lambda)^2*(1-pi^2)+2*\\lambda*(1-\\lambda)*(1-\\pi)*(1-\\rho)\n",
    "$$"
   ]
  },
  {
   "cell_type": "markdown",
   "id": "deluxe-automation",
   "metadata": {},
   "source": [
    "the expected payoff of firm 1 is\n",
    "$$\n",
    "  (\\lambda^2*(1-(1-\\rho)^2)+2*\\lambda*(1-\\lambda)*\\rho)*(\\beta *Y- w2)+((1-\\lambda)^2*(1-pi^2)+2*\\lambda*(1-\\lambda)*(1-\\pi)*(1-\\rho))*(Y-w2)\n",
    "$$"
   ]
  },
  {
   "cell_type": "code",
   "execution_count": 4,
   "id": "linear-affiliate",
   "metadata": {},
   "outputs": [
    {
     "name": "stderr",
     "output_type": "stream",
     "text": [
      "<>:1: DeprecationWarning: invalid escape sequence \\l\n",
      "<>:1: DeprecationWarning: invalid escape sequence \\l\n",
      "<ipython-input-4-2bdae1a3dc08>:1: DeprecationWarning: invalid escape sequence \\l\n",
      "  var('l', latex_name='\\lambda')\n"
     ]
    },
    {
     "data": {
      "text/html": [
       "<html><script type=\"math/tex; mode=display\">\\newcommand{\\Bold}[1]{\\mathbf{#1}}2 \\, {\\left({\\lambda} - 1\\right)} {\\lambda} {\\left(\\pi - 1\\right)} {\\left(\\rho - 1\\right)} + {\\left(\\pi^{2} - 1\\right)} {\\left({\\lambda} - 1\\right)}^{2} + {\\left({\\left(\\rho - 1\\right)}^{2} - 1\\right)} {\\lambda}^{2} + 2 \\, {\\left({\\lambda} - 1\\right)} {\\lambda} \\rho</script></html>"
      ],
      "text/latex": [
       "\\begin{math}\n",
       "\\newcommand{\\Bold}[1]{\\mathbf{#1}}2 \\, {\\left({\\lambda} - 1\\right)} {\\lambda} {\\left(\\pi - 1\\right)} {\\left(\\rho - 1\\right)} + {\\left(\\pi^{2} - 1\\right)} {\\left({\\lambda} - 1\\right)}^{2} + {\\left({\\left(\\rho - 1\\right)}^{2} - 1\\right)} {\\lambda}^{2} + 2 \\, {\\left({\\lambda} - 1\\right)} {\\lambda} \\rho\n",
       "\\end{math}"
      ],
      "text/plain": [
       "2*(l - 1)*l*(pi - 1)*(rho - 1) + (pi^2 - 1)*(l - 1)^2 + ((rho - 1)^2 - 1)*l^2 + 2*(l - 1)*l*rho"
      ]
     },
     "metadata": {},
     "output_type": "display_data"
    }
   ],
   "source": [
    "var('l', latex_name='\\lambda')\n",
    "var('pi rho beta Y w_2')\n",
    "profit2= (l^2*(1-(1-rho)^2)+2*l*(1-l)*rho)*(beta*Y-w_2)+((1-l)^2*(1-pi^2)+2*l*(1-l)*(1-rho)*(1-pi))*(Y-w_2)\n",
    "d2=derivative(profit2, w_2)\n",
    "show(d2)"
   ]
  },
  {
   "cell_type": "code",
   "execution_count": 5,
   "id": "crucial-restaurant",
   "metadata": {},
   "outputs": [
    {
     "data": {
      "text/html": [
       "<html><script type=\"math/tex; mode=display\">\\newcommand{\\Bold}[1]{\\mathbf{#1}}\\left[\\left[w_{2} < w_{1}, 0 < w_{2}, \\beta - 1 > 0, {\\lambda} \\pi + {\\lambda} \\rho - {\\lambda} - \\pi = 0, {\\lambda} \\pi + {\\lambda} \\rho - {\\lambda} - \\pi - 1 = 0\\right], \\left[w_{2} < w_{1}, 0 < w_{2}, \\beta - 1 > 0, {\\lambda} \\pi + {\\lambda} \\rho - {\\lambda} - \\pi = 0, {\\lambda} \\pi + {\\lambda} \\rho - {\\lambda} - \\pi + 1 = 0\\right], \\left[w_{2} < w_{1}, 0 < w_{2}, \\beta - 1 > 0, {\\lambda} \\pi + {\\lambda} \\rho - {\\lambda} - \\pi + 2 = 0, {\\lambda} \\pi + {\\lambda} \\rho - {\\lambda} - \\pi - 1 = 0\\right], \\left[w_{2} < w_{1}, 0 < w_{2}, \\beta - 1 > 0, {\\lambda} \\pi + {\\lambda} \\rho - {\\lambda} - \\pi + 2 = 0, {\\lambda} \\pi + {\\lambda} \\rho - {\\lambda} - \\pi + 1 = 0\\right]\\right]</script></html>"
      ],
      "text/latex": [
       "\\begin{math}\n",
       "\\newcommand{\\Bold}[1]{\\mathbf{#1}}\\left[\\left[w_{2} < w_{1}, 0 < w_{2}, \\beta - 1 > 0, {\\lambda} \\pi + {\\lambda} \\rho - {\\lambda} - \\pi = 0, {\\lambda} \\pi + {\\lambda} \\rho - {\\lambda} - \\pi - 1 = 0\\right], \\left[w_{2} < w_{1}, 0 < w_{2}, \\beta - 1 > 0, {\\lambda} \\pi + {\\lambda} \\rho - {\\lambda} - \\pi = 0, {\\lambda} \\pi + {\\lambda} \\rho - {\\lambda} - \\pi + 1 = 0\\right], \\left[w_{2} < w_{1}, 0 < w_{2}, \\beta - 1 > 0, {\\lambda} \\pi + {\\lambda} \\rho - {\\lambda} - \\pi + 2 = 0, {\\lambda} \\pi + {\\lambda} \\rho - {\\lambda} - \\pi - 1 = 0\\right], \\left[w_{2} < w_{1}, 0 < w_{2}, \\beta - 1 > 0, {\\lambda} \\pi + {\\lambda} \\rho - {\\lambda} - \\pi + 2 = 0, {\\lambda} \\pi + {\\lambda} \\rho - {\\lambda} - \\pi + 1 = 0\\right]\\right]\n",
       "\\end{math}"
      ],
      "text/plain": [
       "[[w_2 < w_1, 0 < w_2, beta - 1 > 0, l*pi + l*rho - l - pi == 0, l*pi + l*rho - l - pi - 1 == 0], [w_2 < w_1, 0 < w_2, beta - 1 > 0, l*pi + l*rho - l - pi == 0, l*pi + l*rho - l - pi + 1 == 0], [w_2 < w_1, 0 < w_2, beta - 1 > 0, l*pi + l*rho - l - pi + 2 == 0, l*pi + l*rho - l - pi - 1 == 0], [w_2 < w_1, 0 < w_2, beta - 1 > 0, l*pi + l*rho - l - pi + 2 == 0, l*pi + l*rho - l - pi + 1 == 0]]"
      ]
     },
     "metadata": {},
     "output_type": "display_data"
    }
   ],
   "source": [
    "solution=solve([d1==0,d2==0,beta>1,w_1>w_2,w_1>0,w_2>0],w_1,w_2)\n",
    "show(solution)"
   ]
  },
  {
   "cell_type": "markdown",
   "id": "sixth-kidney",
   "metadata": {},
   "source": [
    "## Question two"
   ]
  },
  {
   "cell_type": "markdown",
   "id": "accomplished-participation",
   "metadata": {},
   "source": [
    "workers have a type drawn from [0, 1], and worker’s type is drawn uninformly from that interval."
   ]
  },
  {
   "cell_type": "markdown",
   "id": "divided-jackson",
   "metadata": {},
   "source": [
    "$\\lambda$ is the probability that a worker is type H"
   ]
  },
  {
   "cell_type": "markdown",
   "id": "weighted-height",
   "metadata": {},
   "source": [
    "let $\\pi$ be the probability that a worker applies to firm 1 (with higher wage w1)"
   ]
  },
  {
   "cell_type": "markdown",
   "id": "optical-messenger",
   "metadata": {},
   "source": [
    "the probability for type H worker applies firm 1 is\n",
    "$$\n",
    "  \\lambda+ (\\int_{\\lambda}^{1} (1-\\pi(\\lambda)) \\,d\\lambda)\n",
    "$$\n",
    "and the payoff is \n",
    "$$\n",
    "(\\lambda+ (\\int_{\\lambda}^{1} (1-\\pi(\\lambda)) \\,d\\lambda))*w1\n",
    "$$\n",
    "type H worker will centainly get the job when he competes with a type L worker, or other type H worker applies for firm 2 "
   ]
  },
  {
   "cell_type": "markdown",
   "id": "computational-collector",
   "metadata": {},
   "source": [
    "the probability for type H worker applies firm 2 is\n",
    "$$\n",
    "  \\lambda+ (\\int_{\\lambda}^{1} \\pi(\\lambda) \\,d\\lambda)\n",
    "$$\n",
    "the payoff is \n",
    "$$\n",
    "(\\lambda+ (\\int_{\\lambda}^{1} \\pi(\\lambda) \\,d\\lambda))*w2\n",
    "$$"
   ]
  },
  {
   "cell_type": "code",
   "execution_count": 6,
   "id": "selected-attachment",
   "metadata": {},
   "outputs": [
    {
     "name": "stderr",
     "output_type": "stream",
     "text": [
      "<>:2: DeprecationWarning: invalid escape sequence \\l\n",
      "<>:2: DeprecationWarning: invalid escape sequence \\l\n",
      "<ipython-input-6-8432ea77fea3>:2: DeprecationWarning: invalid escape sequence \\l\n",
      "  var('l', latex_name='\\lambda')\n"
     ]
    },
    {
     "data": {
      "text/html": [
       "<html><script type=\"math/tex; mode=display\">\\newcommand{\\Bold}[1]{\\mathbf{#1}}\\left[\\pi\\left({\\lambda}\\right) = \\frac{{\\lambda} w_{2} - w_{1}}{{\\left({\\lambda} - 1\\right)} w_{1} + {\\left({\\lambda} - 1\\right)} w_{2}}\\right]</script></html>"
      ],
      "text/latex": [
       "\\begin{math}\n",
       "\\newcommand{\\Bold}[1]{\\mathbf{#1}}\\left[\\pi\\left({\\lambda}\\right) = \\frac{{\\lambda} w_{2} - w_{1}}{{\\left({\\lambda} - 1\\right)} w_{1} + {\\left({\\lambda} - 1\\right)} w_{2}}\\right]\n",
       "\\end{math}"
      ],
      "text/plain": [
       "[pi(l) == (l*w_2 - w_1)/((l - 1)*w_1 + (l - 1)*w_2)]"
      ]
     },
     "metadata": {},
     "output_type": "display_data"
    }
   ],
   "source": [
    "from sage.symbolic.integration.integral import definite_integral\n",
    "var('l', latex_name='\\lambda')\n",
    "var('pi w_1 w_2')\n",
    "pi=function('pi')(l)\n",
    "payoffequal=(l+definite_integral(1-pi,l,l,1))*w_1==(l+definite_integral(pi,l,l,1))*w_2\n",
    "solution=solve(payoffequal,pi)\n",
    "show(solution)"
   ]
  },
  {
   "cell_type": "markdown",
   "id": "mysterious-teens",
   "metadata": {},
   "source": [
    "the probability for type L worker applies firm 1 is\n",
    "$$\n",
    "  (1-\\lambda)+ (\\int_{\\lambda}^{1} \\pi(\\lambda) \\,d\\lambda)\n",
    "$$\n",
    "and the payoff is \n",
    "$$\n",
    "  (\\lambda+ (\\int_{\\lambda}^{1} (1-\\pi(\\lambda)) \\,d\\lambda))*w1\n",
    "$$\n",
    "type L worker will get the job when the other worker applies for firm 2 "
   ]
  },
  {
   "cell_type": "markdown",
   "id": "surrounded-tourism",
   "metadata": {},
   "source": [
    "the probability for type L worker applies firm 2 is\n",
    "$$\n",
    "  (1-\\lambda)+ (\\int_{\\lambda}^{1} (1-\\pi(\\lambda)) \\,d\\lambda)\n",
    "$$\n",
    "and the payoff is \n",
    "$$\n",
    "  (\\lambda+ (\\int_{\\lambda}^{1} (1-\\pi(\\lambda)) \\,d\\lambda))*w2\n",
    "$$"
   ]
  },
  {
   "cell_type": "markdown",
   "id": "satisfactory-geography",
   "metadata": {},
   "source": [
    "## Question three"
   ]
  },
  {
   "cell_type": "markdown",
   "id": "ecological-partner",
   "metadata": {},
   "source": [
    "Player 4 is a random player, player 4 play strategy to make player 3 (level 1) indifferent betweem some or all actions. For player 3 to be indifferent, the payoff for each action should be the same. let K be the probability for player 4 to play strategy k, L be the probability for player 4 to play strategy l, M be the probability for player 4 to play strategy m."
   ]
  },
  {
   "cell_type": "code",
   "execution_count": 7,
   "id": "regulated-session",
   "metadata": {},
   "outputs": [
    {
     "data": {
      "text/html": [
       "<html><script type=\"math/tex; mode=display\">\\newcommand{\\Bold}[1]{\\mathbf{#1}}\\left[\\left[k = -\\frac{11}{4} \\, m + \\frac{3}{2}, {\\lambda} = \\frac{7}{4} \\, m - \\frac{1}{2}\\right]\\right]</script></html>"
      ],
      "text/latex": [
       "\\begin{math}\n",
       "\\newcommand{\\Bold}[1]{\\mathbf{#1}}\\left[\\left[k = -\\frac{11}{4} \\, m + \\frac{3}{2}, {\\lambda} = \\frac{7}{4} \\, m - \\frac{1}{2}\\right]\\right]\n",
       "\\end{math}"
      ],
      "text/plain": [
       "[[k == -11/4*m + 3/2, l == 7/4*m - 1/2]]"
      ]
     },
     "metadata": {},
     "output_type": "display_data"
    }
   ],
   "source": [
    "var ('k l m')\n",
    "player3indifferent = 20*k+14*l+8*m==16*k+2*l+18*m==0*k+16*l+16*m\n",
    "sum4 = k+l+m==1\n",
    "solution = solve([player3indifferent,sum4],k,l)\n",
    "show(solution)"
   ]
  },
  {
   "cell_type": "code",
   "execution_count": 8,
   "id": "inclusive-roommate",
   "metadata": {},
   "outputs": [
    {
     "data": {
      "text/html": [
       "<html><script type=\"math/tex; mode=display\">\\newcommand{\\Bold}[1]{\\mathbf{#1}}\\left[m = \\left(\\frac{2}{11}\\right)\\right] \\left[m = \\left(\\frac{6}{11}\\right)\\right] \\left[m = \\left(\\frac{6}{7}\\right)\\right] \\left[m = \\left(\\frac{2}{7}\\right)\\right]</script></html>"
      ],
      "text/latex": [
       "\\begin{math}\n",
       "\\newcommand{\\Bold}[1]{\\mathbf{#1}}\\left[m = \\left(\\frac{2}{11}\\right)\\right] \\left[m = \\left(\\frac{6}{11}\\right)\\right] \\left[m = \\left(\\frac{6}{7}\\right)\\right] \\left[m = \\left(\\frac{2}{7}\\right)\\right]\n",
       "\\end{math}"
      ],
      "text/plain": [
       "[m == (2/11)] [m == (6/11)] [m == (6/7)] [m == (2/7)]"
      ]
     },
     "metadata": {},
     "output_type": "display_data"
    }
   ],
   "source": [
    "ans1=solve([(-11/4)*m+(3/2)==1],m)\n",
    "ans2=solve([(-11/4)*m+(3/2)==0],m)\n",
    "ans3=solve([(7/4)*m-(1/2)==1],m)\n",
    "ans4=solve([(7/4)*m-(1/2)==0],m)\n",
    "show(ans1,ans2,ans3,ans4)"
   ]
  },
  {
   "cell_type": "markdown",
   "id": "earned-finance",
   "metadata": {},
   "source": [
    "so the probability of player 4 plays strategy m is between $\\frac{2}{7}$ and $\\frac{6}{11}$. the probability of player 4 plays strategy k is $\\frac{-11}{4}$*m+$\\frac{3}{2}$, and the probability of player 4 plays strategy l is $\\frac{7}{4}$*m-$\\frac{1}{2}$. if this satisfy, then player 3 will be indifferent between some or all actions."
   ]
  },
  {
   "cell_type": "markdown",
   "id": "irish-energy",
   "metadata": {},
   "source": [
    "player 3 play a strategy that can make Player 2 indifferent between their actions if they are level 2. Follow the same logic as above. let H be the probability for player 3 to play strategy h, I be the probability for player 3 to play strategy i, J be the probability for player 3 to play strategy j"
   ]
  },
  {
   "cell_type": "code",
   "execution_count": 9,
   "id": "current-killing",
   "metadata": {},
   "outputs": [
    {
     "data": {
      "text/html": [
       "<html><script type=\"math/tex; mode=display\">\\newcommand{\\Bold}[1]{\\mathbf{#1}}\\left[\\left[h = -\\frac{5}{4} \\, j + \\frac{5}{8}, i = \\frac{1}{4} \\, j + \\frac{3}{8}\\right]\\right]</script></html>"
      ],
      "text/latex": [
       "\\begin{math}\n",
       "\\newcommand{\\Bold}[1]{\\mathbf{#1}}\\left[\\left[h = -\\frac{5}{4} \\, j + \\frac{5}{8}, i = \\frac{1}{4} \\, j + \\frac{3}{8}\\right]\\right]\n",
       "\\end{math}"
      ],
      "text/plain": [
       "[[h == -5/4*j + 5/8, i == 1/4*j + 3/8]]"
      ]
     },
     "metadata": {},
     "output_type": "display_data"
    }
   ],
   "source": [
    "var('h i j')\n",
    "player2indifferent = 14*h+18*i+4*j == 20*h+8*i+14*j == 0*h+16*i+18*j\n",
    "sum3= h+i+j ==1\n",
    "solution2=solve([player2indifferent,sum3],h,i)\n",
    "show(solution2)"
   ]
  },
  {
   "cell_type": "code",
   "execution_count": 10,
   "id": "downtown-bandwidth",
   "metadata": {},
   "outputs": [
    {
     "data": {
      "text/html": [
       "<html><script type=\"math/tex; mode=display\">\\newcommand{\\Bold}[1]{\\mathbf{#1}}\\left[j = \\left(-\\frac{3}{10}\\right)\\right] \\left[j = \\left(\\frac{1}{2}\\right)\\right] \\left[j = \\left(\\frac{5}{2}\\right)\\right] \\left[j = \\left(-\\frac{3}{2}\\right)\\right]</script></html>"
      ],
      "text/latex": [
       "\\begin{math}\n",
       "\\newcommand{\\Bold}[1]{\\mathbf{#1}}\\left[j = \\left(-\\frac{3}{10}\\right)\\right] \\left[j = \\left(\\frac{1}{2}\\right)\\right] \\left[j = \\left(\\frac{5}{2}\\right)\\right] \\left[j = \\left(-\\frac{3}{2}\\right)\\right]\n",
       "\\end{math}"
      ],
      "text/plain": [
       "[j == (-3/10)] [j == (1/2)] [j == (5/2)] [j == (-3/2)]"
      ]
     },
     "metadata": {},
     "output_type": "display_data"
    }
   ],
   "source": [
    "ans1=solve([(-5/4)*j+(5/8)==1],j)\n",
    "ans2=solve([(-5/4)*j+(5/8)==0],j)\n",
    "ans3=solve([(1/4)*j+(3/8)==1],j)\n",
    "ans4=solve([(1/4)*j+(3/8)==0],j)\n",
    "show(ans1,ans2,ans3,ans4)"
   ]
  },
  {
   "cell_type": "markdown",
   "id": "intelligent-wright",
   "metadata": {},
   "source": [
    "probability of player 3 plays strategy j is between 0 and $\\frac{1}{2}$. the probability of player 3 plays strategy h is $\\frac{-5}{4}$j+$\\frac{5}{8}$, and the probability of player 3 plays strategy i is $\\frac{1}{4}$j+$\\frac{3}{8}$. if this satisfy, then player 2 will be indifferent between some or all actions."
   ]
  },
  {
   "cell_type": "markdown",
   "id": "hungarian-listening",
   "metadata": {},
   "source": [
    "A strategy that Player 2 of level 2 could use that would make Player 1 indifferent between two or more of their actions if they have level 3. let D be the probability for player 2 to play strategy d, E be the probability for player 2 to play strategy e, F be the probability for player 2 to play strategy f"
   ]
  },
  {
   "cell_type": "code",
   "execution_count": 11,
   "id": "comic-stereo",
   "metadata": {},
   "outputs": [
    {
     "data": {
      "text/html": [
       "<html><script type=\"math/tex; mode=display\">\\newcommand{\\Bold}[1]{\\mathbf{#1}}\\left[\\left[d = -4 \\, f + 3, e = 3 \\, f - 2\\right]\\right]</script></html>"
      ],
      "text/latex": [
       "\\begin{math}\n",
       "\\newcommand{\\Bold}[1]{\\mathbf{#1}}\\left[\\left[d = -4 \\, f + 3, e = 3 \\, f - 2\\right]\\right]\n",
       "\\end{math}"
      ],
      "text/plain": [
       "[[d == -4*f + 3, e == 3*f - 2]]"
      ]
     },
     "metadata": {},
     "output_type": "display_data"
    }
   ],
   "source": [
    "var('d e f')\n",
    "player1indifferent = 8*d+20*e+12*f == 0*d+8*e+16*f == 18*d+12*e+16*f\n",
    "sum2= d+e+f ==1\n",
    "solution3=solve([player1indifferent,sum2],d,e)\n",
    "show(solution3)"
   ]
  },
  {
   "cell_type": "code",
   "execution_count": 12,
   "id": "wireless-saturn",
   "metadata": {},
   "outputs": [
    {
     "data": {
      "text/html": [
       "<html><script type=\"math/tex; mode=display\">\\newcommand{\\Bold}[1]{\\mathbf{#1}}\\left[f = \\left(\\frac{1}{2}\\right)\\right] \\left[f = \\left(\\frac{3}{4}\\right)\\right] \\left[f = 1\\right] \\left[f = \\left(\\frac{2}{3}\\right)\\right]</script></html>"
      ],
      "text/latex": [
       "\\begin{math}\n",
       "\\newcommand{\\Bold}[1]{\\mathbf{#1}}\\left[f = \\left(\\frac{1}{2}\\right)\\right] \\left[f = \\left(\\frac{3}{4}\\right)\\right] \\left[f = 1\\right] \\left[f = \\left(\\frac{2}{3}\\right)\\right]\n",
       "\\end{math}"
      ],
      "text/plain": [
       "[f == (1/2)] [f == (3/4)] [f == 1] [f == (2/3)]"
      ]
     },
     "metadata": {},
     "output_type": "display_data"
    }
   ],
   "source": [
    "ans1=solve([(-4)*f+3==1],f)\n",
    "ans2=solve([(-4)*f+3==0],f)\n",
    "ans3=solve([3*f-2==1],f)\n",
    "ans4=solve([3*f-2==0],f)\n",
    "show(ans1,ans2,ans3,ans4)"
   ]
  },
  {
   "cell_type": "markdown",
   "id": "sitting-rachel",
   "metadata": {},
   "source": [
    "probability of player 2 plays strategy f is between $\\frac{2}{3}$ and $\\frac{3}{4}$. the probability of player 2 plays strategy d is -4f+3, and the probability of player 2 plays strategy e is 3f-2. if this satisfy, then player 1 will be indifferent between some or all actions."
   ]
  },
  {
   "cell_type": "code",
   "execution_count": 13,
   "id": "familiar-daisy",
   "metadata": {},
   "outputs": [
    {
     "data": {
      "text/html": [
       "<html><script type=\"math/tex; mode=display\">\\newcommand{\\Bold}[1]{\\mathbf{#1}}\\frac{116}{7}</script></html>"
      ],
      "text/latex": [
       "\\begin{math}\n",
       "\\newcommand{\\Bold}[1]{\\mathbf{#1}}\\frac{116}{7}\n",
       "\\end{math}"
      ],
      "text/plain": [
       "116/7"
      ]
     },
     "metadata": {},
     "output_type": "display_data"
    }
   ],
   "source": [
    "m=2/7\n",
    "k=(-11/4)*m + (3/2)\n",
    "l=(7/4)*m - (1/2)\n",
    "payoff=20*k+14*l+8*m\n",
    "show(payoff)"
   ]
  },
  {
   "cell_type": "code",
   "execution_count": null,
   "id": "compatible-bacteria",
   "metadata": {},
   "outputs": [],
   "source": []
  }
 ],
 "metadata": {
  "kernelspec": {
   "display_name": "SageMath 9.2",
   "language": "sage",
   "name": "sagemath"
  },
  "language_info": {
   "codemirror_mode": {
    "name": "ipython",
    "version": 3
   },
   "file_extension": ".py",
   "mimetype": "text/x-python",
   "name": "python",
   "nbconvert_exporter": "python",
   "pygments_lexer": "ipython3",
   "version": "3.8.6"
  }
 },
 "nbformat": 4,
 "nbformat_minor": 5
}
